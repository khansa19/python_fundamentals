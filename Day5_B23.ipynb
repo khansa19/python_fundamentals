{
 "cells": [
  {
   "cell_type": "code",
   "execution_count": 1,
   "metadata": {},
   "outputs": [],
   "source": [
    "#looping statements\n",
    "# for loops"
   ]
  },
  {
   "cell_type": "code",
   "execution_count": 2,
   "metadata": {},
   "outputs": [],
   "source": [
    "bank_customers = ['ibrahim','khansa','javeriya','nayana','anusha','adhi']"
   ]
  },
  {
   "cell_type": "code",
   "execution_count": 6,
   "metadata": {},
   "outputs": [
    {
     "name": "stdout",
     "output_type": "stream",
     "text": [
      "Wish you a very happy new year,Ibrahim\n",
      "Wish you a very happy new year,Khansa\n",
      "Wish you a very happy new year,Javeriya\n",
      "Wish you a very happy new year,Nayana\n",
      "Wish you a very happy new year,Anusha\n",
      "Wish you a very happy new year,Adhi\n"
     ]
    }
   ],
   "source": [
    "for cust in bank_customers:\n",
    "    print(f\"Wish you a very happy new year,{cust.title()}\")"
   ]
  },
  {
   "cell_type": "code",
   "execution_count": 7,
   "metadata": {},
   "outputs": [],
   "source": [
    "students = ['nabeel','tanzeel','umar','aadhi','mohammed']"
   ]
  },
  {
   "cell_type": "code",
   "execution_count": 8,
   "metadata": {},
   "outputs": [
    {
     "name": "stdout",
     "output_type": "stream",
     "text": [
      "Keep up the good work, Nabeel\n",
      "Keep up the good work, Tanzeel\n",
      "Keep up the good work, Umar\n",
      "Keep up the good work, Aadhi\n",
      "Keep up the good work, Mohammed\n"
     ]
    }
   ],
   "source": [
    "for y in students:\n",
    "    print(f\"Keep up the good work, {y.title()}\")"
   ]
  },
  {
   "cell_type": "code",
   "execution_count": 9,
   "metadata": {},
   "outputs": [
    {
     "name": "stdout",
     "output_type": "stream",
     "text": [
      "Keep up the good work, Nabeel\n",
      "i will be looking forward to recieve all your practice files today, Nabeel\n",
      "Keep up the good work, Tanzeel\n",
      "i will be looking forward to recieve all your practice files today, Tanzeel\n",
      "Keep up the good work, Umar\n",
      "i will be looking forward to recieve all your practice files today, Umar\n",
      "Keep up the good work, Aadhi\n",
      "i will be looking forward to recieve all your practice files today, Aadhi\n",
      "Keep up the good work, Mohammed\n",
      "i will be looking forward to recieve all your practice files today, Mohammed\n"
     ]
    }
   ],
   "source": [
    "for y in students:\n",
    "    print(f\"Keep up the good work, {y.title()}\")\n",
    "    print(f\"i will be looking forward to recieve all your practice files today, {y.title()}\")"
   ]
  },
  {
   "cell_type": "code",
   "execution_count": 10,
   "metadata": {},
   "outputs": [
    {
     "name": "stdout",
     "output_type": "stream",
     "text": [
      "Keep up the good work, Nabeel\n",
      "i will be looking forward to recieve all your practice files today, Nabeel.\n",
      "\n",
      "Keep up the good work, Tanzeel\n",
      "i will be looking forward to recieve all your practice files today, Tanzeel.\n",
      "\n",
      "Keep up the good work, Umar\n",
      "i will be looking forward to recieve all your practice files today, Umar.\n",
      "\n",
      "Keep up the good work, Aadhi\n",
      "i will be looking forward to recieve all your practice files today, Aadhi.\n",
      "\n",
      "Keep up the good work, Mohammed\n",
      "i will be looking forward to recieve all your practice files today, Mohammed.\n",
      "\n"
     ]
    }
   ],
   "source": [
    "for y in students:\n",
    "    print(f\"Keep up the good work, {y.title()}\")\n",
    "    print(f\"i will be looking forward to recieve all your practice files today, {y.title()}.\\n\")"
   ]
  },
  {
   "cell_type": "code",
   "execution_count": 11,
   "metadata": {},
   "outputs": [
    {
     "name": "stdout",
     "output_type": "stream",
     "text": [
      "Keep up the good work, Nabeel\n",
      "i will be looking forward to recieve all your practice files today, Nabeel.\n",
      "\n",
      "Keep up the good work, Tanzeel\n",
      "i will be looking forward to recieve all your practice files today, Tanzeel.\n",
      "\n",
      "Keep up the good work, Umar\n",
      "i will be looking forward to recieve all your practice files today, Umar.\n",
      "\n",
      "Keep up the good work, Aadhi\n",
      "i will be looking forward to recieve all your practice files today, Aadhi.\n",
      "\n",
      "Keep up the good work, Mohammed\n",
      "i will be looking forward to recieve all your practice files today, Mohammed.\n",
      "\n",
      "thank you all for showing intrest in learning python\n"
     ]
    }
   ],
   "source": [
    "for y in students:\n",
    "    print(f\"Keep up the good work, {y.title()}\")\n",
    "    print(f\"i will be looking forward to recieve all your practice files today, {y.title()}.\\n\")\n",
    "    \n",
    "print(\"thank you all for showing intrest in learning python\")"
   ]
  },
  {
   "cell_type": "code",
   "execution_count": 12,
   "metadata": {},
   "outputs": [],
   "source": [
    "#organising the list"
   ]
  },
  {
   "cell_type": "code",
   "execution_count": 13,
   "metadata": {},
   "outputs": [
    {
     "name": "stdout",
     "output_type": "stream",
     "text": [
      "['aadhi', 'mohammed', 'nabeel', 'tanzeel', 'umar']\n"
     ]
    }
   ],
   "source": [
    "print(sorted(students)) #temp way"
   ]
  },
  {
   "cell_type": "code",
   "execution_count": 14,
   "metadata": {},
   "outputs": [
    {
     "name": "stdout",
     "output_type": "stream",
     "text": [
      "['nabeel', 'tanzeel', 'umar', 'aadhi', 'mohammed']\n"
     ]
    }
   ],
   "source": [
    "print(students)"
   ]
  },
  {
   "cell_type": "code",
   "execution_count": 16,
   "metadata": {},
   "outputs": [],
   "source": [
    "students.sort()  #permenant way"
   ]
  },
  {
   "cell_type": "code",
   "execution_count": 17,
   "metadata": {},
   "outputs": [
    {
     "name": "stdout",
     "output_type": "stream",
     "text": [
      "['aadhi', 'mohammed', 'nabeel', 'tanzeel', 'umar']\n"
     ]
    }
   ],
   "source": [
    "print(students)"
   ]
  },
  {
   "cell_type": "code",
   "execution_count": null,
   "metadata": {},
   "outputs": [],
   "source": []
  }
 ],
 "metadata": {
  "kernelspec": {
   "display_name": "Python 3",
   "language": "python",
   "name": "python3"
  },
  "language_info": {
   "codemirror_mode": {
    "name": "ipython",
    "version": 3
   },
   "file_extension": ".py",
   "mimetype": "text/x-python",
   "name": "python",
   "nbconvert_exporter": "python",
   "pygments_lexer": "ipython3",
   "version": "3.7.6"
  }
 },
 "nbformat": 4,
 "nbformat_minor": 4
}
