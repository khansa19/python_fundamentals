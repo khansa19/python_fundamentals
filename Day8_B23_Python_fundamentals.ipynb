{
 "cells": [
  {
   "cell_type": "code",
   "execution_count": 1,
   "metadata": {},
   "outputs": [],
   "source": [
    "#dictionaries"
   ]
  },
  {
   "cell_type": "code",
   "execution_count": 2,
   "metadata": {},
   "outputs": [],
   "source": [
    "alien = {'color':'green','points':5,'start_pos':0,'current_pos':10}"
   ]
  },
  {
   "cell_type": "code",
   "execution_count": 3,
   "metadata": {},
   "outputs": [
    {
     "name": "stdout",
     "output_type": "stream",
     "text": [
      "{'color': 'green', 'points': 5, 'start_pos': 0, 'current_pos': 10}\n"
     ]
    }
   ],
   "source": [
    "print(alien)"
   ]
  },
  {
   "cell_type": "code",
   "execution_count": 4,
   "metadata": {},
   "outputs": [],
   "source": [
    "alien['color'] = 'yellow'\n",
    "alien['points'] = 10"
   ]
  },
  {
   "cell_type": "code",
   "execution_count": 6,
   "metadata": {},
   "outputs": [
    {
     "name": "stdout",
     "output_type": "stream",
     "text": [
      "{'color': 'yellow', 'points': 10, 'start_pos': 0, 'current_pos': 10}\n"
     ]
    }
   ],
   "source": [
    "print(alien)"
   ]
  },
  {
   "cell_type": "code",
   "execution_count": 8,
   "metadata": {},
   "outputs": [],
   "source": [
    "del alien['current_pos']"
   ]
  },
  {
   "cell_type": "code",
   "execution_count": 10,
   "metadata": {},
   "outputs": [
    {
     "name": "stdout",
     "output_type": "stream",
     "text": [
      "{'color': 'yellow', 'points': 10, 'start_pos': 0}\n"
     ]
    }
   ],
   "source": [
    "print(alien)"
   ]
  },
  {
   "cell_type": "code",
   "execution_count": 14,
   "metadata": {},
   "outputs": [],
   "source": []
  },
  {
   "cell_type": "code",
   "execution_count": 5,
   "metadata": {},
   "outputs": [],
   "source": [
    "fav_langs = {'samreen':'c++','nabeel':'java','tanzeel':'vb.net','ibrahim':'busniess studies','tasneem':'english','asghar':'accounts'}"
   ]
  },
  {
   "cell_type": "code",
   "execution_count": 15,
   "metadata": {},
   "outputs": [
    {
     "name": "stdout",
     "output_type": "stream",
     "text": [
      "Name: Samreen\n",
      "Subject: C++\n",
      "\n",
      "Name: Nabeel\n",
      "Subject: Java\n",
      "\n",
      "Name: Tanzeel\n",
      "Subject: Vb.Net\n",
      "\n",
      "Name: Ibrahim\n",
      "Subject: Busniess Studies\n",
      "\n",
      "Name: Tasneem\n",
      "Subject: English\n",
      "\n",
      "Name: Asghar\n",
      "Subject: Accounts\n",
      "\n"
     ]
    }
   ],
   "source": [
    "for x,y in fav_langs.items():\n",
    "    print(f\"Name: {x.title()}\")\n",
    "    print(f\"Subject: {y.title()}\\n\")"
   ]
  },
  {
   "cell_type": "code",
   "execution_count": 19,
   "metadata": {},
   "outputs": [
    {
     "name": "stdout",
     "output_type": "stream",
     "text": [
      "Name: Samreen\n",
      "Name: Nabeel\n",
      "Name: Tanzeel\n",
      "Name: Ibrahim\n",
      "Name: Tasneem\n",
      "Name: Asghar\n"
     ]
    }
   ],
   "source": [
    "for x in fav_langs.keys():\n",
    "    print(f\"Name: {x.title()}\")"
   ]
  },
  {
   "cell_type": "code",
   "execution_count": 20,
   "metadata": {},
   "outputs": [
    {
     "name": "stdout",
     "output_type": "stream",
     "text": [
      "Subject: C++\n",
      "Subject: Java\n",
      "Subject: Vb.Net\n",
      "Subject: Busniess Studies\n",
      "Subject: English\n",
      "Subject: Accounts\n"
     ]
    }
   ],
   "source": [
    "for y in fav_langs.values():\n",
    "    print(f\"Subject: {y.title()}\")"
   ]
  },
  {
   "cell_type": "code",
   "execution_count": null,
   "metadata": {},
   "outputs": [],
   "source": []
  }
 ],
 "metadata": {
  "kernelspec": {
   "display_name": "Python 3",
   "language": "python",
   "name": "python3"
  },
  "language_info": {
   "codemirror_mode": {
    "name": "ipython",
    "version": 3
   },
   "file_extension": ".py",
   "mimetype": "text/x-python",
   "name": "python",
   "nbconvert_exporter": "python",
   "pygments_lexer": "ipython3",
   "version": "3.7.6"
  }
 },
 "nbformat": 4,
 "nbformat_minor": 4
}
